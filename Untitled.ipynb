{
 "cells": [
  {
   "cell_type": "code",
   "execution_count": null,
   "id": "ff6cf3ae",
   "metadata": {},
   "outputs": [],
   "source": []
  },
  {
   "cell_type": "code",
   "execution_count": 6,
   "id": "7a7d8b8e",
   "metadata": {},
   "outputs": [
    {
     "name": "stdout",
     "output_type": "stream",
     "text": [
      "18\n"
     ]
    }
   ],
   "source": [
    "print ((4 + 2) * 3)\n"
   ]
  },
  {
   "cell_type": "code",
   "execution_count": 8,
   "id": "b0291b0b",
   "metadata": {},
   "outputs": [
    {
     "name": "stdout",
     "output_type": "stream",
     "text": [
      "True\n",
      "False\n",
      "True\n"
     ]
    }
   ],
   "source": [
    "print(4<5)\n",
    "print(12 % 2 == 1)\n",
    "print(2<6)"
   ]
  },
  {
   "cell_type": "code",
   "execution_count": 40,
   "id": "a2be9905",
   "metadata": {},
   "outputs": [
    {
     "name": "stdout",
     "output_type": "stream",
     "text": [
      "How many days are in 50 years? 18262\n"
     ]
    }
   ],
   "source": [
    "days_in_50_years = 365 * 50 + (50/4) \n",
    "days_in_50_years=int(days_in_50_years)\n",
    "days_in_50_years= str(days_in_50_years)\n",
    "print(\"How many days are in 50 years?\"+\" \"+ days_in_50_years)"
   ]
  },
  {
   "cell_type": "code",
   "execution_count": 12,
   "id": "c383ab57",
   "metadata": {},
   "outputs": [
    {
     "name": "stdout",
     "output_type": "stream",
     "text": [
      "<class 'int'>\n",
      "<class 'float'>\n",
      "<class 'str'>\n"
     ]
    }
   ],
   "source": [
    "int_var = 12\n",
    "float_var = 0.02\n",
    "str_var = \"Hello World\"\n",
    "print(type(int_var))\n",
    "print(type(float_var))\n",
    "print(type(str_var))"
   ]
  },
  {
   "cell_type": "code",
   "execution_count": 1,
   "id": "f29f2a20",
   "metadata": {},
   "outputs": [
    {
     "name": "stdout",
     "output_type": "stream",
     "text": [
      "Time After Time\n"
     ]
    }
   ],
   "source": [
    "time_str = \"Time\"\n",
    "after_str = \"After\"\n",
    "print(time_str, after_str,time_str)"
   ]
  },
  {
   "cell_type": "code",
   "execution_count": 17,
   "id": "bc25278a",
   "metadata": {},
   "outputs": [
    {
     "name": "stdout",
     "output_type": "stream",
     "text": [
      "37\n"
     ]
    }
   ],
   "source": [
    "str1 = \"I'm a great string\"\n",
    "str2 = \"I'm a better string\"\n",
    "print(len(str1)+len(str2))"
   ]
  },
  {
   "cell_type": "code",
   "execution_count": 31,
   "id": "73d63633",
   "metadata": {},
   "outputs": [
    {
     "name": "stdout",
     "output_type": "stream",
     "text": [
      "8\n"
     ]
    }
   ],
   "source": [
    "str_with_o = \"I am a string and somewhere in here is the character u are seeking\"\n",
    "idx_of_o = str_with_o.find(\"o\")\n",
    "print(idx_of_o)"
   ]
  },
  {
   "cell_type": "code",
   "execution_count": 7,
   "id": "1757c72b",
   "metadata": {},
   "outputs": [
    {
     "name": "stdout",
     "output_type": "stream",
     "text": [
      "omewhere in here is the character u are see\n"
     ]
    }
   ],
   "source": [
    "str_with_o = \"I am a string and somewhere in here is the character u are seeking\"\n",
    "idx_of_o = str_with_o.find(\"o\")\n",
    "idx_of_k = str_with_o.find(\"k\")\n",
    "print(str_with_o[idx_of_o:idx_of_k])"
   ]
  },
  {
   "cell_type": "code",
   "execution_count": 2,
   "id": "eb58bd4f",
   "metadata": {},
   "outputs": [
    {
     "name": "stdout",
     "output_type": "stream",
     "text": [
      "The first character is T and the twenty-first character is j\n"
     ]
    }
   ],
   "source": [
    "my_example_string = \"The quick brown fox jumps over the lazy dog\"\n",
    "print(\"The first character is\", my_example_string[0],\"and the twenty-first character is\",my_example_string[20])"
   ]
  },
  {
   "cell_type": "code",
   "execution_count": 6,
   "id": "d5a6359d",
   "metadata": {},
   "outputs": [
    {
     "name": "stdout",
     "output_type": "stream",
     "text": [
      "10 24 55\n"
     ]
    }
   ],
   "source": [
    "long_str = \"Just when you think you found the answer, you find all meaning is lost\"\n",
    "y_idx = long_str.find(\"y\")\n",
    "f_idx = long_str.find(\"f\")\n",
    "m_idx = long_str.find(\"m\")\n",
    "print(y_idx, f_idx, m_idx)"
   ]
  },
  {
   "cell_type": "code",
   "execution_count": 7,
   "id": "3d3369e6",
   "metadata": {},
   "outputs": [
    {
     "name": "stdout",
     "output_type": "stream",
     "text": [
      "you found me\n"
     ]
    }
   ],
   "source": [
    "you_str = long_str[y_idx:y_idx+3]\n",
    "found_str = long_str[f_idx:f_idx+5]\n",
    "me_str = long_str[m_idx:m_idx+2]\n",
    "print(you_str,found_str,me_str)"
   ]
  },
  {
   "cell_type": "code",
   "execution_count": null,
   "id": "0f4733e1",
   "metadata": {},
   "outputs": [],
   "source": []
  }
 ],
 "metadata": {
  "kernelspec": {
   "display_name": "Python 3 (ipykernel)",
   "language": "python",
   "name": "python3"
  },
  "language_info": {
   "codemirror_mode": {
    "name": "ipython",
    "version": 3
   },
   "file_extension": ".py",
   "mimetype": "text/x-python",
   "name": "python",
   "nbconvert_exporter": "python",
   "pygments_lexer": "ipython3",
   "version": "3.11.0"
  }
 },
 "nbformat": 4,
 "nbformat_minor": 5
}
